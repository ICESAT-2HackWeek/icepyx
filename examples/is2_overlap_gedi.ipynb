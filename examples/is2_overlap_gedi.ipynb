{
 "cells": [
  {
   "cell_type": "markdown",
   "id": "9c9493dc-07c6-492f-a196-10cc8bdea3be",
   "metadata": {},
   "source": [
    "#### This notebook has two functions that effectively return s3 links for coincident, near-contemporaneous ICESat-2 tracks given a GEDI input from earthaccess's .search_data() . \n",
    "\n",
    "This works with a single result there are hopes to scale this up to eventually return coincident, near-contemporaneous GEDI and ICESat-2 granule IDs / s3links given a user-defined bbox and tim"
   ]
  },
  {
   "cell_type": "code",
   "execution_count": 10,
   "id": "4a1fe92b-ab77-42bd-8f3f-f36877208d53",
   "metadata": {},
   "outputs": [],
   "source": [
    "import earthaccess\n",
    "import icepyx as ipx\n",
    "import geopandas as gpd\n",
    "import numpy as np\n",
    "import pandas as pd\n",
    "import datetime\n",
    "from datetime import timedelta\n",
    "import json\n",
    "import re\n",
    "from shapely.geometry import Polygon\n",
    "from shapely.geometry import box"
   ]
  },
  {
   "cell_type": "code",
   "execution_count": 2,
   "id": "b883e49e-880b-4ccd-9e4d-585f2014225f",
   "metadata": {},
   "outputs": [
    {
     "name": "stdin",
     "output_type": "stream",
     "text": [
      "Enter your Earthdata Login username:  Jehayes\n",
      "Enter your Earthdata password:  ········\n"
     ]
    },
    {
     "data": {
      "text/plain": [
       "<earthaccess.auth.Auth at 0x7f5838c74390>"
      ]
     },
     "execution_count": 2,
     "metadata": {},
     "output_type": "execute_result"
    }
   ],
   "source": [
    "earthaccess.login()"
   ]
  },
  {
   "cell_type": "code",
   "execution_count": 5,
   "id": "3457ed93-80d0-4520-ab45-427f5ad9deac",
   "metadata": {},
   "outputs": [],
   "source": [
    "# gather random GEDI data using earthaccess as a test case\n",
    "bbox = (-121.83183686310275, 39.251634434878014, -120.00653085351905, 40.2087274330508)\n",
    "GEDI_results= earthaccess.search_data(\n",
    "    short_name='GEDI02_B',\n",
    "    version='002',\n",
    "    cloud_hosted=True,\n",
    "    bounding_box=bbox,\n",
    "    temporal=(\"2019-08-01\", \"2019-09-01\"),\n",
    "    count=1\n",
    ")"
   ]
  },
  {
   "cell_type": "code",
   "execution_count": 6,
   "id": "31123ce0-8f58-4680-b538-ba428c65de7d",
   "metadata": {},
   "outputs": [
    {
     "data": {
      "text/plain": [
       "[Collection: {'ShortName': 'GEDI02_B', 'Version': '002'}\n",
       " Spatial coverage: {'HorizontalSpatialDomain': {'Geometry': {'GPolygons': [{'Boundary': {'Points': [{'Longitude': -158.6015651135, 'Latitude': -0.0100300309}, {'Longitude': -140.539844646, 'Latitude': 23.3566009965}, {'Longitude': -137.8749561776, 'Latitude': 26.2013941876}, {'Longitude': -135.0681660582, 'Latitude': 28.9826371402}, {'Longitude': -132.0968864286, 'Latitude': 31.6894485361}, {'Longitude': -128.9338646389, 'Latitude': 34.3091107961}, {'Longitude': -125.5598770797, 'Latitude': 36.8259912001}, {'Longitude': -121.9435288734, 'Latitude': 39.2241059194}, {'Longitude': -118.0626455903, 'Latitude': 41.4824080213}, {'Longitude': -113.9006376509, 'Latitude': 43.5846280408}, {'Longitude': -109.4342894506, 'Latitude': 45.5025714683}, {'Longitude': -104.6560518645, 'Latitude': 47.2127155124}, {'Longitude': -99.5683380437, 'Latitude': 48.6878240741}, {'Longitude': -94.1876160397, 'Latitude': 49.9021379921}, {'Longitude': -88.5541352731, 'Latitude': 50.8299319569}, {'Longitude': -82.7236016559, 'Latitude': 51.4511080992}, {'Longitude': -76.7710728305, 'Latitude': 51.7496376902}, {'Longitude': -74.6614274013, 'Latitude': 51.7764066141}, {'Longitude': -74.661918947, 'Latitude': 51.8267677025}, {'Longitude': -76.7743100016, 'Latitude': 51.7999598479}, {'Longitude': -82.7339622133, 'Latitude': 51.5010549774}, {'Longitude': -88.5711321514, 'Latitude': 50.8791376386}, {'Longitude': -94.2105436661, 'Latitude': 49.9502884662}, {'Longitude': -99.5963266248, 'Latitude': 48.7346775758}, {'Longitude': -104.6881913168, 'Latitude': 47.258104049}, {'Longitude': -109.4696871809, 'Latitude': 45.5464041212}, {'Longitude': -113.9385388375, 'Latitude': 43.6268552739}, {'Longitude': -118.1022743069, 'Latitude': 41.5230957969}, {'Longitude': -121.9844329193, 'Latitude': 39.263256847}, {'Longitude': -125.6016119385, 'Latitude': 36.8636853575}, {'Longitude': -128.9760587837, 'Latitude': 34.345472109}, {'Longitude': -132.1393241608, 'Latitude': 31.7245604954}, {'Longitude': -135.1106474892, 'Latitude': 29.0166345043}, {'Longitude': -137.9173624666, 'Latitude': 26.2343944923}, {'Longitude': -140.5822253198, 'Latitude': 23.3885834918}, {'Longitude': -158.6424828929, 'Latitude': 0.0193309465}, {'Longitude': -158.6015651135, 'Latitude': -0.0100300309}]}}]}}}\n",
       " Temporal coverage: {'RangeDateTime': {'BeginningDateTime': '2019-08-10T18:56:22.000Z', 'EndingDateTime': '2019-08-10T20:29:09.000Z'}}\n",
       " Size(MB): 307.894\n",
       " Data: ['https://data.lpdaac.earthdatacloud.nasa.gov/lp-prod-protected/GEDI02_B.002/GEDI02_B_2019222185622_O03741_02_T02787_02_003_01_V002/GEDI02_B_2019222185622_O03741_02_T02787_02_003_01_V002.h5']]"
      ]
     },
     "execution_count": 6,
     "metadata": {},
     "output_type": "execute_result"
    }
   ],
   "source": [
    "GEDI_results"
   ]
  },
  {
   "cell_type": "code",
   "execution_count": 18,
   "id": "40e50939-c9bc-4729-8ef0-d33b0d230733",
   "metadata": {},
   "outputs": [],
   "source": [
    "def extract_gedi_track_time(gedi_results):\n",
    "    \"\"\"\n",
    "    This function takes GEDI results from an earthaccess .search_data() query\n",
    "    and returns the polygon of the GEDI path and collection date window in %Y-%m-%d\n",
    "\n",
    "    Outputs:\n",
    "        gedi_track_gdf - geodataframe containing GEDI path geometry (polygon)\n",
    "        collection_times - tuple of temporal coverage of GEDI data in %Y-%m-%d\n",
    "\n",
    "    SCOTT IS DEVELOPING AN earthaccess.results_to_geopandas that could replace this\n",
    "    \"\"\"\n",
    "    # assume that DataGranule is a class and input_list contains instances of this class\n",
    "    class DataGranule:\n",
    "        def __init__(self, data):\n",
    "            self.data = data\n",
    "    \n",
    "        def __str__(self):\n",
    "            return self.data\n",
    "            # convert DataGranule objects to string representation\n",
    "    input_str = ''.join(str(item) for item in gedi_results)\n",
    "    # extract the JSON-like portion of the GEDI results with regex\n",
    "    # looking for coordinates of path to build polygon\n",
    "    match_coords = re.search(r\"\\[\\{'Longitude':.*?\\}\\]\", input_str)\n",
    "    if match_coords:\n",
    "        spatial_coverage_str = match_coords.group(0)\n",
    "        # convert string to list of dictionaries\n",
    "        spatial_coverage = json.loads(spatial_coverage_str.replace(\"'\", '\"'))\n",
    "    # convert to (Longitude, Latitude) tuples\n",
    "    coords = [(point['Longitude'], point['Latitude']) for point in spatial_coverage]\n",
    "    polygon = Polygon(coords)\n",
    "    gedi_track_gdf = gpd.GeoDataFrame(index=[0], crs=\"EPSG:4326\", geometry=[polygon])\n",
    "\n",
    "    # now lets repeat with the time values\n",
    "    match_time = re.search(r\"\\{'RangeDateTime': \\{'BeginningDateTime': '(.*?)', 'EndingDateTime': '(.*?)'\\}\\}\", \n",
    "                      input_str)\n",
    "    if match_time:\n",
    "        beginning_date_time = match_time.group(1)\n",
    "        ending_date_time = match_time.group(2)\n",
    "        # convert dates to %Y-%m-%d to help with future icepyx query\n",
    "        collection_times = (beginning_date_time.split('T')[0], ending_date_time.split('T')[0])\n",
    "    \n",
    "    return gedi_track_gdf, collection_times"
   ]
  },
  {
   "cell_type": "code",
   "execution_count": 22,
   "id": "c5eebccd-6437-455d-9d34-9fc3bb0cebc0",
   "metadata": {},
   "outputs": [],
   "source": [
    "def contemp_coinc_GEDI_IS2(gedi_results, gedi_bbox, \n",
    "                           is2_sn='ATL08', time_pad_days=14):\n",
    "    \"\"\"\n",
    "    This function returns the s3 urls of near-contemporaneous ICESat-2 tracks that overlap \n",
    "    a user-inputted GEDI granule\n",
    "\n",
    "    Inputs:\n",
    "        gedi_results - GEDI results from an earthaccess .search_data() query\n",
    "        gedi_bbox - bbox used for the bounding_box argument in the .search_data() query used\n",
    "                    to gather GEDI results\n",
    "                    *i want to be able to pull this from the GEDI results themselves but don't\n",
    "                    know how to\n",
    "        is2_sn - ICESat-2 shortname for icepyx query, default ATL08 for now\n",
    "        time_pad_days - days (+-) within GEDI acquisition that desired ICESat-2 tracks were acquired \n",
    "\n",
    "    Outputs:\n",
    "        s3urls - list of coincident ICESat-2 granules acquired within time_pad_days of the input GEDI\n",
    "                 acquisition\n",
    "    \"\"\"\n",
    "    gedi_track_gdf, gedi_dates = extract_gedi_track_time(gedi_results)\n",
    "    \n",
    "    # Create polygon from user-inputted bounding box\n",
    "    bbox_polygon = box(*bbox)\n",
    "    bbox_gdf = gpd.GeoDataFrame(index=[0], crs=\"EPSG:4326\", geometry=[bbox_polygon])\n",
    "    # clip the GEDI track to the bbox\n",
    "    gedi_clip_poly = gpd.clip(gedi_track_gdf, bbox_gdf)\n",
    "    clipped_path_geom = gedi_clip_poly.iloc[0].geometry\n",
    "    # get spatial extent of clipped path to use as input of icepyx query\n",
    "    # this code is a little bunk (silly)\n",
    "    x_values = clipped_path_geom.boundary.xy[0].tolist()\n",
    "    y_values = clipped_path_geom.boundary.xy[1].tolist()\n",
    "    is2_spatial_extent = [(x, y) for x, y in zip(x_values, y_values)]\n",
    "    \n",
    "    short_name = is2_sn\n",
    "    spatial_extent = is2_spatial_extent\n",
    "    # add the days +- pad for near-contemporaneous search\n",
    "    is2_pad_start = (datetime.datetime.strptime(gedi_dates[0], \"%Y-%m-%d\") \n",
    "                     - datetime.timedelta(days=time_pad_days)).strftime(\"%Y-%m-%d\")\n",
    "    is2_pad_end = (datetime.datetime.strptime(gedi_dates[1], \"%Y-%m-%d\") \n",
    "                   + datetime.timedelta(days=time_pad_days)).strftime(\"%Y-%m-%d\")\n",
    "    date_range = [is2_pad_start, is2_pad_end]\n",
    "    try:\n",
    "        region = ipx.Query(short_name, spatial_extent, date_range)\n",
    "        s3urls = region.avail_granules(ids=True, cloud=True)[1]\n",
    "        return s3urls\n",
    "    except:\n",
    "        print(f\"No coincident granules found from CMR within {time_pad_days} of acquisition\")"
   ]
  },
  {
   "cell_type": "code",
   "execution_count": 23,
   "id": "727cce05-9aad-43fb-94a9-d02984d5009f",
   "metadata": {},
   "outputs": [
    {
     "data": {
      "text/plain": [
       "['s3://nsidc-cumulus-prod-protected/ATLAS/ATL08/006/2019/08/15/ATL08_20190815210225_07450406_006_02.h5',\n",
       " 's3://nsidc-cumulus-prod-protected/ATLAS/ATL08/006/2019/08/19/ATL08_20190819205407_08060406_006_02.h5',\n",
       " 's3://nsidc-cumulus-prod-protected/ATLAS/ATL08/006/2019/08/21/ATL08_20190821083817_08290402_006_02.h5']"
      ]
     },
     "execution_count": 23,
     "metadata": {},
     "output_type": "execute_result"
    }
   ],
   "source": [
    "contemp_coinc_GEDI_IS2(GEDI_results, \n",
    "                       gedi_bbox=bbox, \n",
    "                       is2_sn='ATL08', time_pad_days=14)"
   ]
  }
 ],
 "metadata": {
  "kernelspec": {
   "display_name": "Python 3 (ipykernel)",
   "language": "python",
   "name": "python3"
  },
  "language_info": {
   "codemirror_mode": {
    "name": "ipython",
    "version": 3
   },
   "file_extension": ".py",
   "mimetype": "text/x-python",
   "name": "python",
   "nbconvert_exporter": "python",
   "pygments_lexer": "ipython3",
   "version": "3.11.9"
  }
 },
 "nbformat": 4,
 "nbformat_minor": 5
}
