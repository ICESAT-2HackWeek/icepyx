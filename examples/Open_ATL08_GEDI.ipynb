{
 "cells": [
  {
   "cell_type": "code",
   "execution_count": 1,
   "id": "24317e2e-4505-4777-a0b5-e1d81f5c6504",
   "metadata": {},
   "outputs": [
    {
     "name": "stdout",
     "output_type": "stream",
     "text": [
      "Note: you may need to restart the kernel to use updated packages.\n"
     ]
    }
   ],
   "source": [
    "%pip install --quiet \"h5coro>=0.0.7\""
   ]
  },
  {
   "cell_type": "code",
   "execution_count": 1,
   "id": "12743369-5a7d-40e2-abd8-47204a5374c6",
   "metadata": {},
   "outputs": [],
   "source": [
    "%matplotlib widget\n",
    "\n",
    "import numpy as np\n",
    "import os\n",
    "import matplotlib.pyplot as plt\n",
    "import earthaccess\n",
    "import xarray as xr\n",
    "import h5py\n",
    "from xarray.backends.api import open_datatree\n",
    "from h5coro import h5coro, s3driver\n",
    "import geopandas as gpd\n",
    "import fsspec\n",
    "import s3fs"
   ]
  },
  {
   "cell_type": "code",
   "execution_count": 2,
   "id": "20676fcd-3e31-4dfa-99ac-cac2d9f0e24b",
   "metadata": {
    "tags": []
   },
   "outputs": [],
   "source": [
    "# Authenticate for accessing NASA data (MODIS)\n",
    "auth = earthaccess.login(strategy=\"netrc\")\n",
    "\n",
    "# If we are not authenticated\n",
    "if not auth.authenticated:\n",
    "    # Ask for credentials and persist them in a .netrc file\n",
    "    auth.login(strategy=\"interactive\", persist=True)"
   ]
  },
  {
   "cell_type": "code",
   "execution_count": 3,
   "id": "7ce5db5f-d240-4f0a-87fc-48f275108675",
   "metadata": {},
   "outputs": [],
   "source": [
    "bbox = (-122, 39.3, -120, 40) # west, south, east, north\n",
    "start_dt = '2020-08-01'\n",
    "end_dt = '2020-10-31'"
   ]
  },
  {
   "cell_type": "markdown",
   "id": "afdffbc0-ad9e-497b-a6bc-9c3022d30ac5",
   "metadata": {},
   "source": [
    "# Open ICESat-2 ATL08 data"
   ]
  },
  {
   "cell_type": "code",
   "execution_count": 42,
   "id": "6bfbe91b-9459-4b66-a062-9664e91dd401",
   "metadata": {},
   "outputs": [],
   "source": [
    "# Log in using earthaccess (this manages your Earthdata login session)\n",
    "auth = earthaccess.login(strategy=\"netrc\")\n",
    "\n",
    "# Get S3 credentials for accessing the NSIDC data\n",
    "s3_creds = auth.get_s3_credentials(daac=\"NSIDC\")\n",
    "\n",
    "# Extract the credentials\n",
    "aws_access_key_id = s3_creds['accessKeyId']\n",
    "aws_secret_access_key = s3_creds['secretAccessKey']\n",
    "aws_session_token = s3_creds['sessionToken']\n",
    "\n",
    "# Initialize S3FileSystem with the obtained credentials\n",
    "fs = s3fs.S3FileSystem(key=aws_access_key_id, \n",
    "                       secret=aws_secret_access_key, \n",
    "                       token=aws_session_token)"
   ]
  },
  {
   "cell_type": "code",
   "execution_count": 25,
   "id": "09595953-8e10-497e-81c1-96e2354d966d",
   "metadata": {},
   "outputs": [
    {
     "name": "stdout",
     "output_type": "stream",
     "text": [
      "18 TOTAL granules\n"
     ]
    }
   ],
   "source": [
    "# Gather all files from search location and time\n",
    "results = earthaccess.search_data(\n",
    "    concept_id='C2613553260-NSIDC_CPRD',\n",
    "    bounding_box=bbox,\n",
    "    temporal=(start_dt, end_dt),\n",
    "    cloud_hosted=True\n",
    ")\n",
    "print (f'{len(results)} TOTAL granules')"
   ]
  },
  {
   "cell_type": "code",
   "execution_count": 26,
   "id": "2e56d65f-6e99-4407-8303-0b9316dbadf8",
   "metadata": {},
   "outputs": [
    {
     "data": {
      "application/vnd.jupyter.widget-view+json": {
       "model_id": "e27cd76a0efb49eb925da91f15cdf6cf",
       "version_major": 2,
       "version_minor": 0
      },
      "text/plain": [
       "QUEUEING TASKS | :   0%|          | 0/18 [00:00<?, ?it/s]"
      ]
     },
     "metadata": {},
     "output_type": "display_data"
    },
    {
     "data": {
      "application/vnd.jupyter.widget-view+json": {
       "model_id": "ca96fbefe98942ab875c6e3e9eab4e35",
       "version_major": 2,
       "version_minor": 0
      },
      "text/plain": [
       "PROCESSING TASKS | :   0%|          | 0/18 [00:00<?, ?it/s]"
      ]
     },
     "metadata": {},
     "output_type": "display_data"
    },
    {
     "data": {
      "application/vnd.jupyter.widget-view+json": {
       "model_id": "c5c1790ba08749699b26f99dc8b8d09d",
       "version_major": 2,
       "version_minor": 0
      },
      "text/plain": [
       "COLLECTING RESULTS | :   0%|          | 0/18 [00:00<?, ?it/s]"
      ]
     },
     "metadata": {},
     "output_type": "display_data"
    }
   ],
   "source": [
    "paths = earthaccess.open(results)"
   ]
  },
  {
   "cell_type": "code",
   "execution_count": 91,
   "id": "d4dc4c6e-f648-4362-a0e3-1f081ea8a4d3",
   "metadata": {},
   "outputs": [],
   "source": [
    "variables = ['gt1r/land_segments/canopy/h_max_canopy', 'gt1r/land_segments/longitude', 'gt1r/land_segments/latitude']"
   ]
  },
  {
   "cell_type": "code",
   "execution_count": 92,
   "id": "1af180ed-2b07-44cd-981f-bfff95846b50",
   "metadata": {},
   "outputs": [
    {
     "name": "stdout",
     "output_type": "stream",
     "text": [
      "431 ms ± 57.5 ms per loop (mean ± std. dev. of 7 runs, 1 loop each)\n"
     ]
    }
   ],
   "source": [
    "%%timeit\n",
    "# Initialize the H5Coro object with the S3 driver and credentials\n",
    "h5obj = h5coro.H5Coro(paths[0].details['name'], h5coro.s3driver.S3Driver, \n",
    "                      errorChecking=True, verbose=False, \n",
    "                      credentials=s3_creds, multiProcess=False)\n",
    "\n",
    "# Read the datasets from the ICESat-2 file\n",
    "data = h5obj.readDatasets(variables, block=True, enableAttributes=False)\n",
    "\n",
    "xr_cover_coro = xr.DataArray(data=data['gt1r/land_segments/canopy/h_max_canopy'],\n",
    "                        coords={'lat':(['x'],data['gt1r/land_segments/latitude']),\n",
    "                                'lon':(['x'],data['gt1r/land_segments/longitude'])},\n",
    "                        dims = ['x'])"
   ]
  },
  {
   "cell_type": "markdown",
   "id": "79c6a8f1-fd72-4432-bbaf-254780db784d",
   "metadata": {},
   "source": [
    "# Open GEDI data "
   ]
  },
  {
   "cell_type": "code",
   "execution_count": 4,
   "id": "97228b61-7da3-4939-a75e-1fdb97bfba07",
   "metadata": {},
   "outputs": [
    {
     "name": "stdout",
     "output_type": "stream",
     "text": [
      "30 TOTAL granules\n"
     ]
    }
   ],
   "source": [
    "# Gather all files from search location and time\n",
    "results = earthaccess.search_data(\n",
    "    concept_id='C2142776747-LPCLOUD',\n",
    "    bounding_box=bbox,\n",
    "    temporal=(start_dt, end_dt),\n",
    "    cloud_hosted=True\n",
    ")\n",
    "print (f'{len(results)} TOTAL granules')"
   ]
  },
  {
   "cell_type": "code",
   "execution_count": 5,
   "id": "08b3780b-5b64-4a68-8ed5-5cf16dbeac06",
   "metadata": {},
   "outputs": [
    {
     "data": {
      "application/vnd.jupyter.widget-view+json": {
       "model_id": "5ec55f3e19bb4197828eabc0dcf067b0",
       "version_major": 2,
       "version_minor": 0
      },
      "text/plain": [
       "QUEUEING TASKS | :   0%|          | 0/30 [00:00<?, ?it/s]"
      ]
     },
     "metadata": {},
     "output_type": "display_data"
    },
    {
     "data": {
      "application/vnd.jupyter.widget-view+json": {
       "model_id": "11c095dce12c4797b12413c4ce027c77",
       "version_major": 2,
       "version_minor": 0
      },
      "text/plain": [
       "PROCESSING TASKS | :   0%|          | 0/30 [00:00<?, ?it/s]"
      ]
     },
     "metadata": {},
     "output_type": "display_data"
    },
    {
     "data": {
      "application/vnd.jupyter.widget-view+json": {
       "model_id": "80a045756a354bd4b97a054a7f5a935f",
       "version_major": 2,
       "version_minor": 0
      },
      "text/plain": [
       "COLLECTING RESULTS | :   0%|          | 0/30 [00:00<?, ?it/s]"
      ]
     },
     "metadata": {},
     "output_type": "display_data"
    }
   ],
   "source": [
    "paths = earthaccess.open(results)"
   ]
  },
  {
   "cell_type": "code",
   "execution_count": 13,
   "id": "0e8f4bb7-6f27-4eb1-ae76-c5f50032085f",
   "metadata": {},
   "outputs": [],
   "source": [
    "# Get S3 credentials for accessing the LPDAAC data\n",
    "s3_creds = auth.get_s3_credentials(daac=\"LPDAAC\")\n",
    "\n",
    "# Extract the credentials\n",
    "aws_access_key_id = s3_creds['accessKeyId']\n",
    "aws_secret_access_key = s3_creds['secretAccessKey']\n",
    "aws_session_token = s3_creds['sessionToken']\n",
    "\n",
    "# Initialize S3FileSystem with the obtained credentials\n",
    "fs = s3fs.S3FileSystem(key=aws_access_key_id, \n",
    "                       secret=aws_secret_access_key, \n",
    "                       token=aws_session_token)"
   ]
  },
  {
   "cell_type": "code",
   "execution_count": 72,
   "id": "e95eca19-5143-4cf8-ba9f-722b8f0c3a03",
   "metadata": {},
   "outputs": [
    {
     "name": "stdout",
     "output_type": "stream",
     "text": [
      "824 ms ± 55.1 ms per loop (mean ± std. dev. of 7 runs, 1 loop each)\n"
     ]
    }
   ],
   "source": [
    "%%timeit\n",
    "\n",
    "# Read GEDI using h5coro + xarray\n",
    "h5obj = h5coro.H5Coro(paths[0].details['name'], h5coro.s3driver.S3Driver, \n",
    "                      errorChecking=True, verbose=False, \n",
    "                      credentials=s3_creds, multiProcess=False)\n",
    "variables = ['BEAM0001/geolocation/lat_lowestmode',\n",
    "             'BEAM0001/geolocation/lon_lowestmode',\n",
    "             'BEAM0001/cover']\n",
    "data = h5obj.readDatasets(variables, block=True, enableAttributes=False)\n",
    "# for variable in data:\n",
    "#     print(f'{variable}: {data[variable][0:10]}')\n",
    "\n",
    "# Convert to dataArray\n",
    "xr_cover_coro = xr.DataArray(data=data['BEAM0001/cover'],\n",
    "                        coords={'lat':(['x'],data['BEAM0001/geolocation/lat_lowestmode']),\n",
    "                                'lon':(['x'],data['BEAM0001/geolocation/lon_lowestmode'])},\n",
    "                        dims = ['x'])"
   ]
  }
 ],
 "metadata": {
  "kernelspec": {
   "display_name": "Python 3 (ipykernel)",
   "language": "python",
   "name": "python3"
  },
  "language_info": {
   "codemirror_mode": {
    "name": "ipython",
    "version": 3
   },
   "file_extension": ".py",
   "mimetype": "text/x-python",
   "name": "python",
   "nbconvert_exporter": "python",
   "pygments_lexer": "ipython3",
   "version": "3.11.9"
  }
 },
 "nbformat": 4,
 "nbformat_minor": 5
}
