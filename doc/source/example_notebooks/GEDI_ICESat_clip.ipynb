{
 "cells": [
  {
   "cell_type": "code",
   "execution_count": 2,
   "id": "9695637e-bc9a-42da-bc1a-40e5dcc195e7",
   "metadata": {},
   "outputs": [],
   "source": [
    "import earthaccess\n",
    "import geopandas as gpd\n",
    "import h5py\n",
    "import numpy as np\n",
    "import pandas as pd\n",
    "import pygmt\n",
    "import pystac_client\n",
    "import rioxarray  # noqa: F401\n",
    "import shapely.geometry\n",
    "import stackstac\n",
    "#import torch\n",
    "import tqdm"
   ]
  },
  {
   "cell_type": "code",
   "execution_count": 3,
   "id": "2a8c4f19-9a05-437e-ae5a-dc540b02ae7b",
   "metadata": {},
   "outputs": [
    {
     "name": "stdin",
     "output_type": "stream",
     "text": [
      "Enter your Earthdata Login username:  Jehayes\n",
      "Enter your Earthdata password:  ········\n"
     ]
    },
    {
     "data": {
      "text/plain": [
       "<earthaccess.auth.Auth at 0x7f38514f0550>"
      ]
     },
     "execution_count": 3,
     "metadata": {},
     "output_type": "execute_result"
    }
   ],
   "source": [
    "earthaccess.login()"
   ]
  },
  {
   "cell_type": "code",
   "execution_count": 4,
   "id": "464a15e4-604c-4d87-9296-0ba4d4ad1aac",
   "metadata": {},
   "outputs": [],
   "source": [
    "GEDI_results= earthaccess.search_data(\n",
    "    short_name='GEDI02_B',\n",
    "    version='002',\n",
    "    cloud_hosted=True,\n",
    "    bounding_box=(-121.83183686310275, 39.251634434878014, -120.00653085351905, 40.2087274330508),\n",
    "    temporal=(\"2019-08-01\", \"2019-09-01\"),\n",
    "    count=3\n",
    ")"
   ]
  },
  {
   "cell_type": "code",
   "execution_count": 5,
   "id": "61563081-6364-49b4-91af-adc8d3f2890c",
   "metadata": {},
   "outputs": [
    {
     "data": {
      "text/plain": [
       "[Collection: {'ShortName': 'GEDI02_B', 'Version': '002'}\n",
       " Spatial coverage: {'HorizontalSpatialDomain': {'Geometry': {'GPolygons': [{'Boundary': {'Points': [{'Longitude': -158.6015651135, 'Latitude': -0.0100300309}, {'Longitude': -140.539844646, 'Latitude': 23.3566009965}, {'Longitude': -137.8749561776, 'Latitude': 26.2013941876}, {'Longitude': -135.0681660582, 'Latitude': 28.9826371402}, {'Longitude': -132.0968864286, 'Latitude': 31.6894485361}, {'Longitude': -128.9338646389, 'Latitude': 34.3091107961}, {'Longitude': -125.5598770797, 'Latitude': 36.8259912001}, {'Longitude': -121.9435288734, 'Latitude': 39.2241059194}, {'Longitude': -118.0626455903, 'Latitude': 41.4824080213}, {'Longitude': -113.9006376509, 'Latitude': 43.5846280408}, {'Longitude': -109.4342894506, 'Latitude': 45.5025714683}, {'Longitude': -104.6560518645, 'Latitude': 47.2127155124}, {'Longitude': -99.5683380437, 'Latitude': 48.6878240741}, {'Longitude': -94.1876160397, 'Latitude': 49.9021379921}, {'Longitude': -88.5541352731, 'Latitude': 50.8299319569}, {'Longitude': -82.7236016559, 'Latitude': 51.4511080992}, {'Longitude': -76.7710728305, 'Latitude': 51.7496376902}, {'Longitude': -74.6614274013, 'Latitude': 51.7764066141}, {'Longitude': -74.661918947, 'Latitude': 51.8267677025}, {'Longitude': -76.7743100016, 'Latitude': 51.7999598479}, {'Longitude': -82.7339622133, 'Latitude': 51.5010549774}, {'Longitude': -88.5711321514, 'Latitude': 50.8791376386}, {'Longitude': -94.2105436661, 'Latitude': 49.9502884662}, {'Longitude': -99.5963266248, 'Latitude': 48.7346775758}, {'Longitude': -104.6881913168, 'Latitude': 47.258104049}, {'Longitude': -109.4696871809, 'Latitude': 45.5464041212}, {'Longitude': -113.9385388375, 'Latitude': 43.6268552739}, {'Longitude': -118.1022743069, 'Latitude': 41.5230957969}, {'Longitude': -121.9844329193, 'Latitude': 39.263256847}, {'Longitude': -125.6016119385, 'Latitude': 36.8636853575}, {'Longitude': -128.9760587837, 'Latitude': 34.345472109}, {'Longitude': -132.1393241608, 'Latitude': 31.7245604954}, {'Longitude': -135.1106474892, 'Latitude': 29.0166345043}, {'Longitude': -137.9173624666, 'Latitude': 26.2343944923}, {'Longitude': -140.5822253198, 'Latitude': 23.3885834918}, {'Longitude': -158.6424828929, 'Latitude': 0.0193309465}, {'Longitude': -158.6015651135, 'Latitude': -0.0100300309}]}}]}}}\n",
       " Temporal coverage: {'RangeDateTime': {'BeginningDateTime': '2019-08-10T18:56:22.000Z', 'EndingDateTime': '2019-08-10T20:29:09.000Z'}}\n",
       " Size(MB): 307.894\n",
       " Data: ['https://data.lpdaac.earthdatacloud.nasa.gov/lp-prod-protected/GEDI02_B.002/GEDI02_B_2019222185622_O03741_02_T02787_02_003_01_V002/GEDI02_B_2019222185622_O03741_02_T02787_02_003_01_V002.h5'],\n",
       " Collection: {'ShortName': 'GEDI02_B', 'Version': '002'}\n",
       " Spatial coverage: {'HorizontalSpatialDomain': {'Geometry': {'GPolygons': [{'Boundary': {'Points': [{'Longitude': -168.9470651545, 'Latitude': 51.7755302709}, {'Longitude': -162.9656080441, 'Latitude': 51.6204877636}, {'Longitude': -157.070433139, 'Latitude': 51.1386481912}, {'Longitude': -151.3417927266, 'Latitude': 50.3424645269}, {'Longitude': -145.8444134569, 'Latitude': 49.2503512114}, {'Longitude': -140.6243699159, 'Latitude': 47.8854148469}, {'Longitude': -135.7076960914, 'Latitude': 46.2737404401}, {'Longitude': -131.1038752468, 'Latitude': 44.4421535143}, {'Longitude': -126.8074431086, 'Latitude': 42.4163526436}, {'Longitude': -122.8057556278, 'Latitude': 40.2212148977}, {'Longitude': -119.0772041052, 'Latitude': 37.8783922425}, {'Longitude': -115.5985015278, 'Latitude': 35.4083464704}, {'Longitude': -112.3444570835, 'Latitude': 32.828906379}, {'Longitude': -109.2904610396, 'Latitude': 30.1559309743}, {'Longitude': -106.4117182664, 'Latitude': 27.402575631}, {'Longitude': -103.6855375562, 'Latitude': 24.5812755882}, {'Longitude': -101.0908787098, 'Latitude': 21.7022875189}, {'Longitude': -98.6077899913, 'Latitude': 18.7751335674}, {'Longitude': -96.2177028497, 'Latitude': 15.8079038078}, {'Longitude': -93.9037062116, 'Latitude': 12.8087990862}, {'Longitude': -91.6498751725, 'Latitude': 9.7845808989}, {'Longitude': -89.4411430909, 'Latitude': 6.742993393}, {'Longitude': -87.2628175515, 'Latitude': 3.6859865544}, {'Longitude': -85.1010834773, 'Latitude': 0.6236827345}, {'Longitude': -84.7486693432, 'Latitude': 0.1231468069}, {'Longitude': -84.7074891677, 'Latitude': 0.1521387814}, {'Longitude': -85.059910047, 'Latitude': 0.6526877443}, {'Longitude': -87.22161194, 'Latitude': 3.7150640718}, {'Longitude': -89.3998800413, 'Latitude': 6.7722725221}, {'Longitude': -91.6084977589, 'Latitude': 9.8141416218}, {'Longitude': -93.8621859391, 'Latitude': 12.8387544713}, {'Longitude': -96.176013091, 'Latitude': 15.838358948}, {'Longitude': -98.5659199405, 'Latitude': 18.8062000276}, {'Longitude': -101.0488322142, 'Latitude': 21.7340759581}, {'Longitude': -103.6433429859, 'Latitude': 24.6139009621}, {'Longitude': -106.3694279108, 'Latitude': 27.4361482603}, {'Longitude': -109.2481715927, 'Latitude': 30.1905680221}, {'Longitude': -112.3023130765, 'Latitude': 32.8647216573}, {'Longitude': -115.5567092276, 'Latitude': 35.4454491574}, {'Longitude': -119.0360504149, 'Latitude': 37.9168853777}, {'Longitude': -122.7656225863, 'Latitude': 40.2611878814}, {'Longitude': -126.7688199188, 'Latitude': 42.4578715317}, {'Longitude': -131.0673677505, 'Latitude': 44.4852517585}, {'Longitude': -135.6740353189, 'Latitude': 46.3184106721}, {'Longitude': -140.5943914917, 'Latitude': 47.9315940784}, {'Longitude': -145.8190231919, 'Latitude': 49.2979107662}, {'Longitude': -151.321886476, 'Latitude': 50.3911995519}, {'Longitude': -157.0568140109, 'Latitude': 51.1882807451}, {'Longitude': -162.9588963909, 'Latitude': 51.6706772699}, {'Longitude': -168.9470022966, 'Latitude': 51.8258922616}, {'Longitude': -168.9470651545, 'Latitude': 51.7755302709}]}}]}}}\n",
       " Temporal coverage: {'RangeDateTime': {'BeginningDateTime': '2019-08-11T01:07:29.000Z', 'EndingDateTime': '2019-08-11T02:40:16.000Z'}}\n",
       " Size(MB): 529.609\n",
       " Data: ['https://data.lpdaac.earthdatacloud.nasa.gov/lp-prod-protected/GEDI02_B.002/GEDI02_B_2019223010729_O03745_03_T03908_02_003_01_V002/GEDI02_B_2019223010729_O03745_03_T03908_02_003_01_V002.h5'],\n",
       " Collection: {'ShortName': 'GEDI02_B', 'Version': '002'}\n",
       " Spatial coverage: {'HorizontalSpatialDomain': {'Geometry': {'GPolygons': [{'Boundary': {'Points': [{'Longitude': -139.5331149929, 'Latitude': 22.5723074459}, {'Longitude': -136.9020157914, 'Latitude': 25.4338300546}, {'Longitude': -134.1343080143, 'Latitude': 28.2342471645}, {'Longitude': -131.2070852526, 'Latitude': 30.9636424491}, {'Longitude': -128.0976354399, 'Latitude': 33.6093042706}, {'Longitude': -124.7814302542, 'Latitude': 36.156540542}, {'Longitude': -121.2330321087, 'Latitude': 38.5893225165}, {'Longitude': -117.4279991301, 'Latitude': 40.8891249883}, {'Longitude': -113.3427519292, 'Latitude': 43.0355651712}, {'Longitude': -108.9588053104, 'Latitude': 45.0056468136}, {'Longitude': -104.2646245271, 'Latitude': 46.7742679666}, {'Longitude': -99.2600843122, 'Latitude': 48.3152560295}, {'Longitude': -93.9555693654, 'Latitude': 49.602046281}, {'Longitude': -88.3863812892, 'Latitude': 50.609217407}, {'Longitude': -82.6022655822, 'Latitude': 51.3145555514}, {'Longitude': -76.6746838211, 'Latitude': 51.7010765604}, {'Longitude': -72.8867532901, 'Latitude': 51.7759522968}, {'Longitude': -72.8872367691, 'Latitude': 51.8263134151}, {'Longitude': -76.6798689695, 'Latitude': 51.7513360476}, {'Longitude': -82.6144674588, 'Latitude': 51.3643373551}, {'Longitude': -88.4050574868, 'Latitude': 50.6581664332}, {'Longitude': -93.9799433963, 'Latitude': 49.6498693178}, {'Longitude': -99.2892850759, 'Latitude': 48.3617271064}, {'Longitude': -104.2977225996, 'Latitude': 46.8192448673}, {'Longitude': -108.9949464785, 'Latitude': 45.0490503066}, {'Longitude': -113.3811724055, 'Latitude': 43.077377033}, {'Longitude': -117.4680580441, 'Latitude': 40.9293716072}, {'Longitude': -121.2742073302, 'Latitude': 38.6280662472}, {'Longitude': -124.8233148792, 'Latitude': 36.1938664069}, {'Longitude': -128.1399196267, 'Latitude': 33.6453141519}, {'Longitude': -131.2495383519, 'Latitude': 30.998450729}, {'Longitude': -134.1767734217, 'Latitude': 28.2679673125}, {'Longitude': -136.9443866619, 'Latitude': 25.466580141}, {'Longitude': -139.5752086124, 'Latitude': 22.604336776}, {'Longitude': -139.5331149929, 'Latitude': 22.5723074459}]}}]}}}\n",
       " Temporal coverage: {'RangeDateTime': {'BeginningDateTime': '2019-08-14T17:15:53.000Z', 'EndingDateTime': '2019-08-14T18:48:40.000Z'}}\n",
       " Size(MB): 380.25\n",
       " Data: ['https://data.lpdaac.earthdatacloud.nasa.gov/lp-prod-protected/GEDI02_B.002/GEDI02_B_2019226171553_O03802_02_T03705_02_003_01_V002/GEDI02_B_2019226171553_O03802_02_T03705_02_003_01_V002.h5']]"
      ]
     },
     "execution_count": 5,
     "metadata": {},
     "output_type": "execute_result"
    }
   ],
   "source": [
    "GEDI_results"
   ]
  },
  {
   "cell_type": "code",
   "execution_count": 65,
   "id": "8458ef22-217a-464c-a636-1758269b6dea",
   "metadata": {},
   "outputs": [
    {
     "name": "stdout",
     "output_type": "stream",
     "text": [
      "[{'Longitude': -158.6015651135, 'Latitude': -0.0100300309}, {'Longitude': -140.539844646, 'Latitude': 23.3566009965}, {'Longitude': -137.8749561776, 'Latitude': 26.2013941876}, {'Longitude': -135.0681660582, 'Latitude': 28.9826371402}, {'Longitude': -132.0968864286, 'Latitude': 31.6894485361}, {'Longitude': -128.9338646389, 'Latitude': 34.3091107961}, {'Longitude': -125.5598770797, 'Latitude': 36.8259912001}, {'Longitude': -121.9435288734, 'Latitude': 39.2241059194}, {'Longitude': -118.0626455903, 'Latitude': 41.4824080213}, {'Longitude': -113.9006376509, 'Latitude': 43.5846280408}, {'Longitude': -109.4342894506, 'Latitude': 45.5025714683}, {'Longitude': -104.6560518645, 'Latitude': 47.2127155124}, {'Longitude': -99.5683380437, 'Latitude': 48.6878240741}, {'Longitude': -94.1876160397, 'Latitude': 49.9021379921}, {'Longitude': -88.5541352731, 'Latitude': 50.8299319569}, {'Longitude': -82.7236016559, 'Latitude': 51.4511080992}, {'Longitude': -76.7710728305, 'Latitude': 51.7496376902}, {'Longitude': -74.6614274013, 'Latitude': 51.7764066141}, {'Longitude': -74.661918947, 'Latitude': 51.8267677025}, {'Longitude': -76.7743100016, 'Latitude': 51.7999598479}, {'Longitude': -82.7339622133, 'Latitude': 51.5010549774}, {'Longitude': -88.5711321514, 'Latitude': 50.8791376386}, {'Longitude': -94.2105436661, 'Latitude': 49.9502884662}, {'Longitude': -99.5963266248, 'Latitude': 48.7346775758}, {'Longitude': -104.6881913168, 'Latitude': 47.258104049}, {'Longitude': -109.4696871809, 'Latitude': 45.5464041212}, {'Longitude': -113.9385388375, 'Latitude': 43.6268552739}, {'Longitude': -118.1022743069, 'Latitude': 41.5230957969}, {'Longitude': -121.9844329193, 'Latitude': 39.263256847}, {'Longitude': -125.6016119385, 'Latitude': 36.8636853575}, {'Longitude': -128.9760587837, 'Latitude': 34.345472109}, {'Longitude': -132.1393241608, 'Latitude': 31.7245604954}, {'Longitude': -135.1106474892, 'Latitude': 29.0166345043}, {'Longitude': -137.9173624666, 'Latitude': 26.2343944923}, {'Longitude': -140.5822253198, 'Latitude': 23.3885834918}, {'Longitude': -158.6424828929, 'Latitude': 0.0193309465}, {'Longitude': -158.6015651135, 'Latitude': -0.0100300309}]\n",
      "POLYGON ((-121.83183686310275 39.28909996411093, -121.83183686310275 39.35208436432354, -120.36021683143657 40.2087274330508, -120.25146067344878 40.2087274330508, -121.83183686310275 39.28909996411093))\n"
     ]
    }
   ],
   "source": [
    "import json\n",
    "import re\n",
    "import geopandas as gpd\n",
    "from shapely.geometry import Polygon\n",
    "# Assume that DataGranule is a class and input_list contains instances of this class\n",
    "class DataGranule:\n",
    "    def __init__(self, data):\n",
    "        self.data = data\n",
    "\n",
    "    def __str__(self):\n",
    "        return self.data\n",
    "        # Convert each DataGranule object to its string representation\n",
    "input_str = ''.join(str(item) for item in GEDI_results)\n",
    "# Extract the JSON-like portion of the string using regex\n",
    "match = re.search(r\"\\[\\{'Longitude':.*?\\}\\]\", input_str)\n",
    "# If the pattern is found, proceed to convert it into a list of dictionaries\n",
    "if match:\n",
    "    spatial_coverage_str = match.group(0)\n",
    "    # Convert the string to a Python list of dictionaries\n",
    "    spatial_coverage = json.loads(spatial_coverage_str.replace(\"'\", '\"'))\n",
    "# Now spatial_coverage contains the list of dictionaries with Longitude and Latitude\n",
    "print(spatial_coverage)\n",
    "# Convert to a list of tuples (Longitude, Latitude)\n",
    "coords = [(point['Longitude'], point['Latitude']) for point in spatial_coverage]\n",
    "# Create a Polygon object\n",
    "polygon = Polygon(coords)\n",
    "# Create a GeoDataFrame\n",
    "GEDI_gdf = gpd.GeoDataFrame(index=[0], crs=\"EPSG:4326\", geometry=[polygon])\n",
    "\n",
    "\n",
    "# Create polygon from user-inputted bounding box\n",
    "bbox = (-121.83183686310275, 39.251634434878014, -120.00653085351905, 40.2087274330508)\n",
    "bbox_polygon = Polygon([(bbox[0], bbox[1]), (bbox[0], bbox[3]), \n",
    "                   (bbox[2], bbox[3]), (bbox[2], bbox[1])])\n",
    "bbox_gdf = gpd.GeoDataFrame(index=[0], crs=\"EPSG:4326\", geometry=[bbox_polygon])\n",
    "\n",
    "GEDI_clip_poly = gpd.clip(GEDI_gdf, bbox_gdf)\n",
    "print(GEDI_clip_poly.iloc[0].geometry)"
   ]
  },
  {
   "cell_type": "code",
   "execution_count": 71,
   "id": "783ed20e-31f4-421e-bc94-ec5bc69e76c1",
   "metadata": {},
   "outputs": [
    {
     "data": {
      "text/plain": [
       "<Axes: >"
      ]
     },
     "execution_count": 71,
     "metadata": {},
     "output_type": "execute_result"
    },
    {
     "data": {
      "image/png": "[encoded data removed]",
      "text/plain": [
       "<Figure size 640x480 with 1 Axes>"
      ]
     },
     "metadata": {},
     "output_type": "display_data"
    },
    {
     "data": {
      "image/png": "[encoded data removed]",
      "text/plain": [
       "<Figure size 640x480 with 1 Axes>"
      ]
     },
     "metadata": {},
     "output_type": "display_data"
    }
   ],
   "source": [
    "GEDI_gdf.plot()\n",
    "bbox_gdf.plot()"
   ]
  },
  {
   "cell_type": "code",
   "execution_count": 66,
   "id": "0def44ec-e713-4451-98ef-a198d93fce84",
   "metadata": {},
   "outputs": [
    {
     "data": {
      "image/svg+xml": [
       "<svg xmlns=\"http://www.w3.org/2000/svg\" xmlns:xlink=\"http://www.w3.org/1999/xlink\" width=\"100.0\" height=\"100.0\" viewBox=\"-121.8950519106889 39.22588491652477 1.7068062848262855 1.0460575641121892\" preserveAspectRatio=\"xMinYMin meet\"><g transform=\"matrix(1,0,0,-1,0,79.49782739716173)\"><path fill-rule=\"evenodd\" fill=\"#66cc99\" stroke=\"#555555\" stroke-width=\"0.03413612569652571\" opacity=\"0.6\" d=\"M -121.83183686310275,39.28909996411093 L -121.83183686310275,39.35208436432354 L -120.36021683143657,40.2087274330508 L -120.25146067344878,40.2087274330508 L -121.83183686310275,39.28909996411093 z\" /></g></svg>"
      ],
      "text/plain": [
       "<POLYGON ((-121.832 39.289, -121.832 39.352, -120.36 40.209, -120.251 40.209...>"
      ]
     },
     "execution_count": 66,
     "metadata": {},
     "output_type": "execute_result"
    }
   ],
   "source": [
    "GEDI_clip_poly.iloc[0].geometry"
   ]
  },
  {
   "cell_type": "code",
   "execution_count": 77,
   "id": "bcff4a51-6d0c-4125-97c5-4eb1e68bcfdd",
   "metadata": {},
   "outputs": [
    {
     "data": {
      "text/plain": [
       "(array('d', [-121.83183686310275, -121.83183686310275, -120.36021683143657, -120.25146067344878, -121.83183686310275]),\n",
       " array('d', [39.28909996411093, 39.35208436432354, 40.2087274330508, 40.2087274330508, 39.28909996411093]))"
      ]
     },
     "execution_count": 77,
     "metadata": {},
     "output_type": "execute_result"
    }
   ],
   "source": [
    "geom = GEDI_clip_poly.iloc[0].geometry\n",
    "geom.exterior.xy"
   ]
  },
  {
   "cell_type": "code",
   "execution_count": null,
   "id": "6006d977-c415-4555-b60b-ebcb1426eaca",
   "metadata": {},
   "outputs": [],
   "source": [
    "x_values = geom.xy[0].tolist()\n",
    "y_values = geom.boundary.xy[1].tolist()"
   ]
  },
  {
   "cell_type": "code",
   "execution_count": 64,
   "id": "6c56bf5a-c01a-4057-9ae6-483589f0673b",
   "metadata": {},
   "outputs": [
    {
     "data": {
      "text/plain": [
       "[(-121.83183686310275, 39.28909996411093),\n",
       " (-121.83183686310275, 39.35208436432354),\n",
       " (-120.36021683143657, 40.2087274330508),\n",
       " (-120.25146067344878, 40.2087274330508),\n",
       " (-121.83183686310275, 39.28909996411093)]"
      ]
     },
     "execution_count": 64,
     "metadata": {},
     "output_type": "execute_result"
    }
   ],
   "source": [
    "[(x, y) for x, y in zip(x_values, y_values)]"
   ]
  },
  {
   "cell_type": "code",
   "execution_count": 78,
   "id": "3e6d989b-b1a2-445f-ba7d-fd6bb8052247",
   "metadata": {},
   "outputs": [],
   "source": [
    "import icepyx as ipx\n",
    "short_name = 'ATL08'\n",
    "spatial_extent = [(x, y) for x, y in zip(x_values, y_values)]\n",
    "date_range = [\"2019-08-01\", \"2019-09-01\"]\n",
    "region = ipx.Query(short_name, spatial_extent, date_range)"
   ]
  },
  {
   "cell_type": "code",
   "execution_count": 79,
   "id": "8fe55b4f-ee8c-4993-a904-0342fb46d4d9",
   "metadata": {},
   "outputs": [
    {
     "data": {
      "text/plain": [
       "[['ATL08_20190815210225_07450406_006_02.h5',\n",
       "  'ATL08_20190819205407_08060406_006_02.h5',\n",
       "  'ATL08_20190821083817_08290402_006_02.h5',\n",
       "  'ATL08_20190825082958_08900402_006_02.h5']]"
      ]
     },
     "execution_count": 79,
     "metadata": {},
     "output_type": "execute_result"
    }
   ],
   "source": [
    "region.avail_granules(ids=True)"
   ]
  },
  {
   "cell_type": "code",
   "execution_count": null,
   "id": "5c10cae5-ea76-41c6-98de-5638576b526d",
   "metadata": {},
   "outputs": [],
   "source": []
  }
 ],
 "metadata": {
  "kernelspec": {
   "display_name": "Python 3 (ipykernel)",
   "language": "python",
   "name": "python3"
  },
  "language_info": {
   "codemirror_mode": {
    "name": "ipython",
    "version": 3
   },
   "file_extension": ".py",
   "mimetype": "text/x-python",
   "name": "python",
   "nbconvert_exporter": "python",
   "pygments_lexer": "ipython3",
   "version": "3.11.9"
  }
 },
 "nbformat": 4,
 "nbformat_minor": 5
}
